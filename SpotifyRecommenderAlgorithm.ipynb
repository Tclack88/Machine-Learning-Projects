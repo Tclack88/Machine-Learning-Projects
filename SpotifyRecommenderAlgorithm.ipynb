{
  "nbformat": 4,
  "nbformat_minor": 0,
  "metadata": {
    "colab": {
      "name": "SpotifyRecommenderAlgorithm.ipynb",
      "provenance": [],
      "include_colab_link": true
    },
    "kernelspec": {
      "name": "python3",
      "display_name": "Python 3"
    }
  },
  "cells": [
    {
      "cell_type": "markdown",
      "metadata": {
        "id": "view-in-github",
        "colab_type": "text"
      },
      "source": [
        "<a href=\"https://colab.research.google.com/github/Tclack88/Machine-Learning-Projects/blob/master/SpotifyRecommenderAlgorithm.ipynb\" target=\"_parent\"><img src=\"https://colab.research.google.com/assets/colab-badge.svg\" alt=\"Open In Colab\"/></a>"
      ]
    },
    {
      "cell_type": "code",
      "metadata": {
        "id": "OGk8UTCtBHuf",
        "colab_type": "code",
        "colab": {}
      },
      "source": [
        "infile = \"https://raw.githubusercontent.com/Tclack88/Machine-Learning-Projects/master/SpotifyAudioFeaturesApril2019.csv\""
      ],
      "execution_count": 0,
      "outputs": []
    },
    {
      "cell_type": "code",
      "metadata": {
        "id": "nkD7VA2aAsH9",
        "colab_type": "code",
        "colab": {
          "base_uri": "https://localhost:8080/",
          "height": 360
        },
        "outputId": "c9fc5b91-9803-4a8c-ef54-b8a1e38cfcbc"
      },
      "source": [
        "import pandas as pd\n",
        "df = pd.read_csv(infile)\n",
        "df.head()"
      ],
      "execution_count": 136,
      "outputs": [
        {
          "output_type": "execute_result",
          "data": {
            "text/html": [
              "<div>\n",
              "<style scoped>\n",
              "    .dataframe tbody tr th:only-of-type {\n",
              "        vertical-align: middle;\n",
              "    }\n",
              "\n",
              "    .dataframe tbody tr th {\n",
              "        vertical-align: top;\n",
              "    }\n",
              "\n",
              "    .dataframe thead th {\n",
              "        text-align: right;\n",
              "    }\n",
              "</style>\n",
              "<table border=\"1\" class=\"dataframe\">\n",
              "  <thead>\n",
              "    <tr style=\"text-align: right;\">\n",
              "      <th></th>\n",
              "      <th>artist_name</th>\n",
              "      <th>track_id</th>\n",
              "      <th>track_name</th>\n",
              "      <th>acousticness</th>\n",
              "      <th>danceability</th>\n",
              "      <th>duration_ms</th>\n",
              "      <th>energy</th>\n",
              "      <th>instrumentalness</th>\n",
              "      <th>key</th>\n",
              "      <th>liveness</th>\n",
              "      <th>loudness</th>\n",
              "      <th>mode</th>\n",
              "      <th>speechiness</th>\n",
              "      <th>tempo</th>\n",
              "      <th>time_signature</th>\n",
              "      <th>valence</th>\n",
              "      <th>popularity</th>\n",
              "    </tr>\n",
              "  </thead>\n",
              "  <tbody>\n",
              "    <tr>\n",
              "      <th>0</th>\n",
              "      <td>YG</td>\n",
              "      <td>2RM4jf1Xa9zPgMGRDiht8O</td>\n",
              "      <td>Big Bank feat. 2 Chainz, Big Sean, Nicki Minaj</td>\n",
              "      <td>0.005820</td>\n",
              "      <td>0.743</td>\n",
              "      <td>238373</td>\n",
              "      <td>0.339</td>\n",
              "      <td>0.000</td>\n",
              "      <td>1</td>\n",
              "      <td>0.0812</td>\n",
              "      <td>-7.678</td>\n",
              "      <td>1</td>\n",
              "      <td>0.4090</td>\n",
              "      <td>203.927</td>\n",
              "      <td>4</td>\n",
              "      <td>0.118</td>\n",
              "      <td>15</td>\n",
              "    </tr>\n",
              "    <tr>\n",
              "      <th>1</th>\n",
              "      <td>YG</td>\n",
              "      <td>1tHDG53xJNGsItRA3vfVgs</td>\n",
              "      <td>BAND DRUM (feat. A$AP Rocky)</td>\n",
              "      <td>0.024400</td>\n",
              "      <td>0.846</td>\n",
              "      <td>214800</td>\n",
              "      <td>0.557</td>\n",
              "      <td>0.000</td>\n",
              "      <td>8</td>\n",
              "      <td>0.2860</td>\n",
              "      <td>-7.259</td>\n",
              "      <td>1</td>\n",
              "      <td>0.4570</td>\n",
              "      <td>159.009</td>\n",
              "      <td>4</td>\n",
              "      <td>0.371</td>\n",
              "      <td>0</td>\n",
              "    </tr>\n",
              "    <tr>\n",
              "      <th>2</th>\n",
              "      <td>R3HAB</td>\n",
              "      <td>6Wosx2euFPMT14UXiWudMy</td>\n",
              "      <td>Radio Silence</td>\n",
              "      <td>0.025000</td>\n",
              "      <td>0.603</td>\n",
              "      <td>138913</td>\n",
              "      <td>0.723</td>\n",
              "      <td>0.000</td>\n",
              "      <td>9</td>\n",
              "      <td>0.0824</td>\n",
              "      <td>-5.890</td>\n",
              "      <td>0</td>\n",
              "      <td>0.0454</td>\n",
              "      <td>114.966</td>\n",
              "      <td>4</td>\n",
              "      <td>0.382</td>\n",
              "      <td>56</td>\n",
              "    </tr>\n",
              "    <tr>\n",
              "      <th>3</th>\n",
              "      <td>Chris Cooq</td>\n",
              "      <td>3J2Jpw61sO7l6Hc7qdYV91</td>\n",
              "      <td>Lactose</td>\n",
              "      <td>0.029400</td>\n",
              "      <td>0.800</td>\n",
              "      <td>125381</td>\n",
              "      <td>0.579</td>\n",
              "      <td>0.912</td>\n",
              "      <td>5</td>\n",
              "      <td>0.0994</td>\n",
              "      <td>-12.118</td>\n",
              "      <td>0</td>\n",
              "      <td>0.0701</td>\n",
              "      <td>123.003</td>\n",
              "      <td>4</td>\n",
              "      <td>0.641</td>\n",
              "      <td>0</td>\n",
              "    </tr>\n",
              "    <tr>\n",
              "      <th>4</th>\n",
              "      <td>Chris Cooq</td>\n",
              "      <td>2jbYvQCyPgX3CdmAzeVeuS</td>\n",
              "      <td>Same - Original mix</td>\n",
              "      <td>0.000035</td>\n",
              "      <td>0.783</td>\n",
              "      <td>124016</td>\n",
              "      <td>0.792</td>\n",
              "      <td>0.878</td>\n",
              "      <td>7</td>\n",
              "      <td>0.0332</td>\n",
              "      <td>-10.277</td>\n",
              "      <td>1</td>\n",
              "      <td>0.0661</td>\n",
              "      <td>120.047</td>\n",
              "      <td>4</td>\n",
              "      <td>0.928</td>\n",
              "      <td>0</td>\n",
              "    </tr>\n",
              "  </tbody>\n",
              "</table>\n",
              "</div>"
            ],
            "text/plain": [
              "  artist_name                track_id  ... valence  popularity\n",
              "0          YG  2RM4jf1Xa9zPgMGRDiht8O  ...   0.118          15\n",
              "1          YG  1tHDG53xJNGsItRA3vfVgs  ...   0.371           0\n",
              "2       R3HAB  6Wosx2euFPMT14UXiWudMy  ...   0.382          56\n",
              "3  Chris Cooq  3J2Jpw61sO7l6Hc7qdYV91  ...   0.641           0\n",
              "4  Chris Cooq  2jbYvQCyPgX3CdmAzeVeuS  ...   0.928           0\n",
              "\n",
              "[5 rows x 17 columns]"
            ]
          },
          "metadata": {
            "tags": []
          },
          "execution_count": 136
        }
      ]
    },
    {
      "cell_type": "code",
      "metadata": {
        "id": "FsCu4XshLdws",
        "colab_type": "code",
        "colab": {}
      },
      "source": [
        "# Separate data into X and y, i.e. features and targets\n",
        "y = df[df.columns[:3]] # y is the first 3 columns, ie. artist, song_id, and song name\n",
        "X = df[df.columns[3:]]\n",
        "drop_cols = ['duration_ms', 'key', 'mode', 'time_signature', 'popularity','tempo'] # remove potentially unecessary columns\n",
        "X = X.drop(columns=drop_cols)"
      ],
      "execution_count": 0,
      "outputs": []
    },
    {
      "cell_type": "code",
      "metadata": {
        "id": "9KUojKibUHA8",
        "colab_type": "code",
        "colab": {}
      },
      "source": [
        "from sklearn.preprocessing import MinMaxScaler"
      ],
      "execution_count": 0,
      "outputs": []
    },
    {
      "cell_type": "code",
      "metadata": {
        "id": "LMrelv15UKNX",
        "colab_type": "code",
        "colab": {
          "base_uri": "https://localhost:8080/",
          "height": 204
        },
        "outputId": "dcb43cf1-eff1-40ef-9fd1-4faeaedcb21d"
      },
      "source": [
        "scaler = MinMaxScaler()\n",
        "scaler.fit_transform(X)\n",
        "X.head()"
      ],
      "execution_count": 168,
      "outputs": [
        {
          "output_type": "execute_result",
          "data": {
            "text/html": [
              "<div>\n",
              "<style scoped>\n",
              "    .dataframe tbody tr th:only-of-type {\n",
              "        vertical-align: middle;\n",
              "    }\n",
              "\n",
              "    .dataframe tbody tr th {\n",
              "        vertical-align: top;\n",
              "    }\n",
              "\n",
              "    .dataframe thead th {\n",
              "        text-align: right;\n",
              "    }\n",
              "</style>\n",
              "<table border=\"1\" class=\"dataframe\">\n",
              "  <thead>\n",
              "    <tr style=\"text-align: right;\">\n",
              "      <th></th>\n",
              "      <th>acousticness</th>\n",
              "      <th>danceability</th>\n",
              "      <th>energy</th>\n",
              "      <th>instrumentalness</th>\n",
              "      <th>liveness</th>\n",
              "      <th>loudness</th>\n",
              "      <th>speechiness</th>\n",
              "      <th>valence</th>\n",
              "    </tr>\n",
              "  </thead>\n",
              "  <tbody>\n",
              "    <tr>\n",
              "      <th>0</th>\n",
              "      <td>0.005820</td>\n",
              "      <td>0.743</td>\n",
              "      <td>0.339</td>\n",
              "      <td>0.000</td>\n",
              "      <td>0.0812</td>\n",
              "      <td>-7.678</td>\n",
              "      <td>0.4090</td>\n",
              "      <td>0.118</td>\n",
              "    </tr>\n",
              "    <tr>\n",
              "      <th>1</th>\n",
              "      <td>0.024400</td>\n",
              "      <td>0.846</td>\n",
              "      <td>0.557</td>\n",
              "      <td>0.000</td>\n",
              "      <td>0.2860</td>\n",
              "      <td>-7.259</td>\n",
              "      <td>0.4570</td>\n",
              "      <td>0.371</td>\n",
              "    </tr>\n",
              "    <tr>\n",
              "      <th>2</th>\n",
              "      <td>0.025000</td>\n",
              "      <td>0.603</td>\n",
              "      <td>0.723</td>\n",
              "      <td>0.000</td>\n",
              "      <td>0.0824</td>\n",
              "      <td>-5.890</td>\n",
              "      <td>0.0454</td>\n",
              "      <td>0.382</td>\n",
              "    </tr>\n",
              "    <tr>\n",
              "      <th>3</th>\n",
              "      <td>0.029400</td>\n",
              "      <td>0.800</td>\n",
              "      <td>0.579</td>\n",
              "      <td>0.912</td>\n",
              "      <td>0.0994</td>\n",
              "      <td>-12.118</td>\n",
              "      <td>0.0701</td>\n",
              "      <td>0.641</td>\n",
              "    </tr>\n",
              "    <tr>\n",
              "      <th>4</th>\n",
              "      <td>0.000035</td>\n",
              "      <td>0.783</td>\n",
              "      <td>0.792</td>\n",
              "      <td>0.878</td>\n",
              "      <td>0.0332</td>\n",
              "      <td>-10.277</td>\n",
              "      <td>0.0661</td>\n",
              "      <td>0.928</td>\n",
              "    </tr>\n",
              "  </tbody>\n",
              "</table>\n",
              "</div>"
            ],
            "text/plain": [
              "   acousticness  danceability  energy  ...  loudness  speechiness  valence\n",
              "0      0.005820         0.743   0.339  ...    -7.678       0.4090    0.118\n",
              "1      0.024400         0.846   0.557  ...    -7.259       0.4570    0.371\n",
              "2      0.025000         0.603   0.723  ...    -5.890       0.0454    0.382\n",
              "3      0.029400         0.800   0.579  ...   -12.118       0.0701    0.641\n",
              "4      0.000035         0.783   0.792  ...   -10.277       0.0661    0.928\n",
              "\n",
              "[5 rows x 8 columns]"
            ]
          },
          "metadata": {
            "tags": []
          },
          "execution_count": 168
        }
      ]
    },
    {
      "cell_type": "code",
      "metadata": {
        "id": "YpzDp5KWEjc7",
        "colab_type": "code",
        "colab": {}
      },
      "source": [
        "from sklearn.neighbors import NearestNeighbors"
      ],
      "execution_count": 0,
      "outputs": []
    },
    {
      "cell_type": "code",
      "metadata": {
        "id": "cKkoVBkJHZBm",
        "colab_type": "code",
        "colab": {
          "base_uri": "https://localhost:8080/",
          "height": 68
        },
        "outputId": "38995039-e47b-48d4-b67a-1613d8abff50"
      },
      "source": [
        "nn = NearestNeighbors(n_neighbors=10, algorithm='kd_tree')\n",
        "nn.fit(X)"
      ],
      "execution_count": 169,
      "outputs": [
        {
          "output_type": "execute_result",
          "data": {
            "text/plain": [
              "NearestNeighbors(algorithm='kd_tree', leaf_size=30, metric='minkowski',\n",
              "                 metric_params=None, n_jobs=None, n_neighbors=10, p=2,\n",
              "                 radius=1.0)"
            ]
          },
          "metadata": {
            "tags": []
          },
          "execution_count": 169
        }
      ]
    },
    {
      "cell_type": "markdown",
      "metadata": {
        "id": "v6SmXpvNLduP",
        "colab_type": "text"
      },
      "source": [
        "## Drake Sample (rap)"
      ]
    },
    {
      "cell_type": "code",
      "metadata": {
        "id": "RmleMxeWLWBx",
        "colab_type": "code",
        "colab": {
          "base_uri": "https://localhost:8080/",
          "height": 359
        },
        "outputId": "908a7031-edc3-40cc-ef70-17e2fc75ea9a"
      },
      "source": [
        "drake_cols = df[df.artist_name == 'Drake'].index\n",
        "recomendations = nn.kneighbors([X.iloc[drake_cols[0]]])[1][0]\n",
        "y.iloc[recomendations]"
      ],
      "execution_count": 170,
      "outputs": [
        {
          "output_type": "execute_result",
          "data": {
            "text/html": [
              "<div>\n",
              "<style scoped>\n",
              "    .dataframe tbody tr th:only-of-type {\n",
              "        vertical-align: middle;\n",
              "    }\n",
              "\n",
              "    .dataframe tbody tr th {\n",
              "        vertical-align: top;\n",
              "    }\n",
              "\n",
              "    .dataframe thead th {\n",
              "        text-align: right;\n",
              "    }\n",
              "</style>\n",
              "<table border=\"1\" class=\"dataframe\">\n",
              "  <thead>\n",
              "    <tr style=\"text-align: right;\">\n",
              "      <th></th>\n",
              "      <th>artist_name</th>\n",
              "      <th>track_id</th>\n",
              "      <th>track_name</th>\n",
              "    </tr>\n",
              "  </thead>\n",
              "  <tbody>\n",
              "    <tr>\n",
              "      <th>124538</th>\n",
              "      <td>Drake</td>\n",
              "      <td>3mvYQKm8h6M5K5h0nVPY9S</td>\n",
              "      <td>After Dark (feat. Static Major &amp; Ty Dolla $ign)</td>\n",
              "    </tr>\n",
              "    <tr>\n",
              "      <th>621</th>\n",
              "      <td>Drake</td>\n",
              "      <td>3mvYQKm8h6M5K5h0nVPY9S</td>\n",
              "      <td>After Dark (feat. Static Major &amp;amp; Ty Dolla ...</td>\n",
              "    </tr>\n",
              "    <tr>\n",
              "      <th>23553</th>\n",
              "      <td>Emile Danero</td>\n",
              "      <td>6aJc9Tuyapj0OfpQzX7OVz</td>\n",
              "      <td>In Luv Wid It (feat. Rage Bambino)</td>\n",
              "    </tr>\n",
              "    <tr>\n",
              "      <th>115619</th>\n",
              "      <td>The Cool Kids</td>\n",
              "      <td>19ic8WIAqO5emEUCe5JqJ3</td>\n",
              "      <td>Dice Game</td>\n",
              "    </tr>\n",
              "    <tr>\n",
              "      <th>125063</th>\n",
              "      <td>Global Dan</td>\n",
              "      <td>2yTRATSaF7hsstbQp8QKfC</td>\n",
              "      <td>Dark Out ft. AzN (prod. Drago)</td>\n",
              "    </tr>\n",
              "    <tr>\n",
              "      <th>73064</th>\n",
              "      <td>Jared Grimble</td>\n",
              "      <td>4kQsSk5vCzO6acUwVqwUv1</td>\n",
              "      <td>Clouds</td>\n",
              "    </tr>\n",
              "    <tr>\n",
              "      <th>110515</th>\n",
              "      <td>Sound Clout</td>\n",
              "      <td>7rKSBkb7CbPYXcTfbGppxs</td>\n",
              "      <td>Trip (Jacquees Quemix)</td>\n",
              "    </tr>\n",
              "    <tr>\n",
              "      <th>82098</th>\n",
              "      <td>Mendo Dope</td>\n",
              "      <td>3aVhG9Ooz3wTERQOOl84P3</td>\n",
              "      <td>Green Weed and Hash</td>\n",
              "    </tr>\n",
              "    <tr>\n",
              "      <th>35730</th>\n",
              "      <td>Kerala Dust</td>\n",
              "      <td>7IctzNEJucIBzkAWYg6np2</td>\n",
              "      <td>The Chain</td>\n",
              "    </tr>\n",
              "    <tr>\n",
              "      <th>110604</th>\n",
              "      <td>South Park Mexican</td>\n",
              "      <td>1lvFqzlSRccHfO9ZwWhpLm</td>\n",
              "      <td>Chill</td>\n",
              "    </tr>\n",
              "  </tbody>\n",
              "</table>\n",
              "</div>"
            ],
            "text/plain": [
              "               artist_name  ...                                         track_name\n",
              "124538               Drake  ...    After Dark (feat. Static Major & Ty Dolla $ign)\n",
              "621                  Drake  ...  After Dark (feat. Static Major &amp; Ty Dolla ...\n",
              "23553         Emile Danero  ...                 In Luv Wid It (feat. Rage Bambino)\n",
              "115619       The Cool Kids  ...                                          Dice Game\n",
              "125063          Global Dan  ...                     Dark Out ft. AzN (prod. Drago)\n",
              "73064        Jared Grimble  ...                                             Clouds\n",
              "110515         Sound Clout  ...                             Trip (Jacquees Quemix)\n",
              "82098           Mendo Dope  ...                                Green Weed and Hash\n",
              "35730          Kerala Dust  ...                                          The Chain\n",
              "110604  South Park Mexican  ...                                              Chill\n",
              "\n",
              "[10 rows x 3 columns]"
            ]
          },
          "metadata": {
            "tags": []
          },
          "execution_count": 170
        }
      ]
    },
    {
      "cell_type": "markdown",
      "metadata": {
        "id": "Kgy5VK_ywybl",
        "colab_type": "text"
      },
      "source": [
        "### Selena Gomez Experiment (modern pop)"
      ]
    },
    {
      "cell_type": "code",
      "metadata": {
        "id": "-kmo8ExBt6id",
        "colab_type": "code",
        "colab": {}
      },
      "source": [
        "sg_cols = df[df.artist_name == 'Selena Gomez']"
      ],
      "execution_count": 0,
      "outputs": []
    },
    {
      "cell_type": "code",
      "metadata": {
        "id": "8MFxrq29uRHV",
        "colab_type": "code",
        "colab": {
          "base_uri": "https://localhost:8080/",
          "height": 359
        },
        "outputId": "88460616-e386-45b1-846d-d7df4cba0e05"
      },
      "source": [
        "# before scaling\n",
        "recomendations = nn.kneighbors([X.iloc[24585]])[1][0]\n",
        "y.iloc[recomendations]"
      ],
      "execution_count": 155,
      "outputs": [
        {
          "output_type": "execute_result",
          "data": {
            "text/html": [
              "<div>\n",
              "<style scoped>\n",
              "    .dataframe tbody tr th:only-of-type {\n",
              "        vertical-align: middle;\n",
              "    }\n",
              "\n",
              "    .dataframe tbody tr th {\n",
              "        vertical-align: top;\n",
              "    }\n",
              "\n",
              "    .dataframe thead th {\n",
              "        text-align: right;\n",
              "    }\n",
              "</style>\n",
              "<table border=\"1\" class=\"dataframe\">\n",
              "  <thead>\n",
              "    <tr style=\"text-align: right;\">\n",
              "      <th></th>\n",
              "      <th>artist_name</th>\n",
              "      <th>track_id</th>\n",
              "      <th>track_name</th>\n",
              "    </tr>\n",
              "  </thead>\n",
              "  <tbody>\n",
              "    <tr>\n",
              "      <th>24585</th>\n",
              "      <td>Selena Gomez</td>\n",
              "      <td>7qOatDCpgEdzqwnpdD9E4q</td>\n",
              "      <td>Wolves</td>\n",
              "    </tr>\n",
              "    <tr>\n",
              "      <th>59815</th>\n",
              "      <td>42 Dugg</td>\n",
              "      <td>4X1O0xPHShL3R3PI9pqVGb</td>\n",
              "      <td>Livin'</td>\n",
              "    </tr>\n",
              "    <tr>\n",
              "      <th>46728</th>\n",
              "      <td>fromis_9</td>\n",
              "      <td>46TStqCoE5i72Tt9KKwKfc</td>\n",
              "      <td>Be With You</td>\n",
              "    </tr>\n",
              "    <tr>\n",
              "      <th>124228</th>\n",
              "      <td>Travis Scott</td>\n",
              "      <td>58TaFP5j5i9swOf584yon2</td>\n",
              "      <td>HOUSTONFORNICATION</td>\n",
              "    </tr>\n",
              "    <tr>\n",
              "      <th>26169</th>\n",
              "      <td>Dat Gurl Secrete</td>\n",
              "      <td>4Pms7ztl4dFyQD2W0yPzax</td>\n",
              "      <td>Balenciaga</td>\n",
              "    </tr>\n",
              "    <tr>\n",
              "      <th>128493</th>\n",
              "      <td>Allie X</td>\n",
              "      <td>5Iylu9FEarJW7j3VXJO7UN</td>\n",
              "      <td>Last Xmas</td>\n",
              "    </tr>\n",
              "    <tr>\n",
              "      <th>88438</th>\n",
              "      <td>Cyril M</td>\n",
              "      <td>4vTr08HDUFYsn114Cm6lSm</td>\n",
              "      <td>Falling over You (feat. Esmeralda)</td>\n",
              "    </tr>\n",
              "    <tr>\n",
              "      <th>75135</th>\n",
              "      <td>Wubbaduck</td>\n",
              "      <td>3HjnuaOedf0ZLX4yNb2G2g</td>\n",
              "      <td>Nightmare Before Christmas</td>\n",
              "    </tr>\n",
              "    <tr>\n",
              "      <th>88281</th>\n",
              "      <td>Domo</td>\n",
              "      <td>2Y3lfIomYW3VEBnOBPJfK7</td>\n",
              "      <td>Love Come Down</td>\n",
              "    </tr>\n",
              "    <tr>\n",
              "      <th>6090</th>\n",
              "      <td>Felix Jaehn</td>\n",
              "      <td>4lGaOYqLKr5Z7bA1H92FBv</td>\n",
              "      <td>Bonfire (feat. ALMA)</td>\n",
              "    </tr>\n",
              "  </tbody>\n",
              "</table>\n",
              "</div>"
            ],
            "text/plain": [
              "             artist_name  ...                          track_name\n",
              "24585       Selena Gomez  ...                              Wolves\n",
              "59815            42 Dugg  ...                              Livin'\n",
              "46728           fromis_9  ...                         Be With You\n",
              "124228      Travis Scott  ...                  HOUSTONFORNICATION\n",
              "26169   Dat Gurl Secrete  ...                          Balenciaga\n",
              "128493           Allie X  ...                           Last Xmas\n",
              "88438            Cyril M  ...  Falling over You (feat. Esmeralda)\n",
              "75135          Wubbaduck  ...          Nightmare Before Christmas\n",
              "88281               Domo  ...                      Love Come Down\n",
              "6090         Felix Jaehn  ...                Bonfire (feat. ALMA)\n",
              "\n",
              "[10 rows x 3 columns]"
            ]
          },
          "metadata": {
            "tags": []
          },
          "execution_count": 155
        }
      ]
    },
    {
      "cell_type": "code",
      "metadata": {
        "id": "mhoa1YL4Um7-",
        "colab_type": "code",
        "colab": {
          "base_uri": "https://localhost:8080/",
          "height": 359
        },
        "outputId": "9e3ec542-8e57-4d38-81d5-38ea5c1ebfda"
      },
      "source": [
        "# after scaling\n",
        "recomendations = nn.kneighbors([X.iloc[24585]])[1][0]\n",
        "y.iloc[recomendations]"
      ],
      "execution_count": 172,
      "outputs": [
        {
          "output_type": "execute_result",
          "data": {
            "text/html": [
              "<div>\n",
              "<style scoped>\n",
              "    .dataframe tbody tr th:only-of-type {\n",
              "        vertical-align: middle;\n",
              "    }\n",
              "\n",
              "    .dataframe tbody tr th {\n",
              "        vertical-align: top;\n",
              "    }\n",
              "\n",
              "    .dataframe thead th {\n",
              "        text-align: right;\n",
              "    }\n",
              "</style>\n",
              "<table border=\"1\" class=\"dataframe\">\n",
              "  <thead>\n",
              "    <tr style=\"text-align: right;\">\n",
              "      <th></th>\n",
              "      <th>artist_name</th>\n",
              "      <th>track_id</th>\n",
              "      <th>track_name</th>\n",
              "    </tr>\n",
              "  </thead>\n",
              "  <tbody>\n",
              "    <tr>\n",
              "      <th>24585</th>\n",
              "      <td>Selena Gomez</td>\n",
              "      <td>7qOatDCpgEdzqwnpdD9E4q</td>\n",
              "      <td>Wolves</td>\n",
              "    </tr>\n",
              "    <tr>\n",
              "      <th>59815</th>\n",
              "      <td>42 Dugg</td>\n",
              "      <td>4X1O0xPHShL3R3PI9pqVGb</td>\n",
              "      <td>Livin'</td>\n",
              "    </tr>\n",
              "    <tr>\n",
              "      <th>46728</th>\n",
              "      <td>fromis_9</td>\n",
              "      <td>46TStqCoE5i72Tt9KKwKfc</td>\n",
              "      <td>Be With You</td>\n",
              "    </tr>\n",
              "    <tr>\n",
              "      <th>124228</th>\n",
              "      <td>Travis Scott</td>\n",
              "      <td>58TaFP5j5i9swOf584yon2</td>\n",
              "      <td>HOUSTONFORNICATION</td>\n",
              "    </tr>\n",
              "    <tr>\n",
              "      <th>26169</th>\n",
              "      <td>Dat Gurl Secrete</td>\n",
              "      <td>4Pms7ztl4dFyQD2W0yPzax</td>\n",
              "      <td>Balenciaga</td>\n",
              "    </tr>\n",
              "    <tr>\n",
              "      <th>128493</th>\n",
              "      <td>Allie X</td>\n",
              "      <td>5Iylu9FEarJW7j3VXJO7UN</td>\n",
              "      <td>Last Xmas</td>\n",
              "    </tr>\n",
              "    <tr>\n",
              "      <th>88438</th>\n",
              "      <td>Cyril M</td>\n",
              "      <td>4vTr08HDUFYsn114Cm6lSm</td>\n",
              "      <td>Falling over You (feat. Esmeralda)</td>\n",
              "    </tr>\n",
              "    <tr>\n",
              "      <th>75135</th>\n",
              "      <td>Wubbaduck</td>\n",
              "      <td>3HjnuaOedf0ZLX4yNb2G2g</td>\n",
              "      <td>Nightmare Before Christmas</td>\n",
              "    </tr>\n",
              "    <tr>\n",
              "      <th>88281</th>\n",
              "      <td>Domo</td>\n",
              "      <td>2Y3lfIomYW3VEBnOBPJfK7</td>\n",
              "      <td>Love Come Down</td>\n",
              "    </tr>\n",
              "    <tr>\n",
              "      <th>6090</th>\n",
              "      <td>Felix Jaehn</td>\n",
              "      <td>4lGaOYqLKr5Z7bA1H92FBv</td>\n",
              "      <td>Bonfire (feat. ALMA)</td>\n",
              "    </tr>\n",
              "  </tbody>\n",
              "</table>\n",
              "</div>"
            ],
            "text/plain": [
              "             artist_name  ...                          track_name\n",
              "24585       Selena Gomez  ...                              Wolves\n",
              "59815            42 Dugg  ...                              Livin'\n",
              "46728           fromis_9  ...                         Be With You\n",
              "124228      Travis Scott  ...                  HOUSTONFORNICATION\n",
              "26169   Dat Gurl Secrete  ...                          Balenciaga\n",
              "128493           Allie X  ...                           Last Xmas\n",
              "88438            Cyril M  ...  Falling over You (feat. Esmeralda)\n",
              "75135          Wubbaduck  ...          Nightmare Before Christmas\n",
              "88281               Domo  ...                      Love Come Down\n",
              "6090         Felix Jaehn  ...                Bonfire (feat. ALMA)\n",
              "\n",
              "[10 rows x 3 columns]"
            ]
          },
          "metadata": {
            "tags": []
          },
          "execution_count": 172
        }
      ]
    },
    {
      "cell_type": "markdown",
      "metadata": {
        "id": "Gm3YXV-XvOER",
        "colab_type": "text"
      },
      "source": [
        "## Mozart Experiment (classical)"
      ]
    },
    {
      "cell_type": "code",
      "metadata": {
        "id": "YfoWIV1Kw5hV",
        "colab_type": "code",
        "colab": {}
      },
      "source": [
        "moz_list = df[df.artist_name == 'Wolfgang Amadeus Mozart'].index"
      ],
      "execution_count": 0,
      "outputs": []
    },
    {
      "cell_type": "code",
      "metadata": {
        "id": "vOY0hEoMw7gJ",
        "colab_type": "code",
        "colab": {
          "base_uri": "https://localhost:8080/",
          "height": 359
        },
        "outputId": "02de13c2-136d-4d82-ff3f-238d100e1546"
      },
      "source": [
        "# before scaling\n",
        "recommendations = nn.kneighbors([X.iloc[moz_list[0]]])[1][0]\n",
        "y.iloc[recommendations]"
      ],
      "execution_count": 150,
      "outputs": [
        {
          "output_type": "execute_result",
          "data": {
            "text/html": [
              "<div>\n",
              "<style scoped>\n",
              "    .dataframe tbody tr th:only-of-type {\n",
              "        vertical-align: middle;\n",
              "    }\n",
              "\n",
              "    .dataframe tbody tr th {\n",
              "        vertical-align: top;\n",
              "    }\n",
              "\n",
              "    .dataframe thead th {\n",
              "        text-align: right;\n",
              "    }\n",
              "</style>\n",
              "<table border=\"1\" class=\"dataframe\">\n",
              "  <thead>\n",
              "    <tr style=\"text-align: right;\">\n",
              "      <th></th>\n",
              "      <th>artist_name</th>\n",
              "      <th>track_id</th>\n",
              "      <th>track_name</th>\n",
              "    </tr>\n",
              "  </thead>\n",
              "  <tbody>\n",
              "    <tr>\n",
              "      <th>360</th>\n",
              "      <td>Wolfgang Amadeus Mozart</td>\n",
              "      <td>5hRqwsN8a0YiOuQrpV6CeL</td>\n",
              "      <td>Piano Quartet No. 2 in E-Flat Major, K. 493: I...</td>\n",
              "    </tr>\n",
              "    <tr>\n",
              "      <th>50479</th>\n",
              "      <td>Shun Yu</td>\n",
              "      <td>53vXMZHHafrhU9OanjBHNJ</td>\n",
              "      <td>Sonata in F Major, Op. 54 (Ludwig van Beethoven)</td>\n",
              "    </tr>\n",
              "    <tr>\n",
              "      <th>111803</th>\n",
              "      <td>Ludwig van Beethoven</td>\n",
              "      <td>5BprvXTEYXyigQRHxoA6NA</td>\n",
              "      <td>Violin Sonata No. 7 in C Minor, Op. 30 No. 2: ...</td>\n",
              "    </tr>\n",
              "    <tr>\n",
              "      <th>78195</th>\n",
              "      <td>Igor Stravinsky</td>\n",
              "      <td>3ipti6lvAP5sIoMVzTT2cl</td>\n",
              "      <td>Capriccio: III. Allegro capriccioso ma sempre ...</td>\n",
              "    </tr>\n",
              "    <tr>\n",
              "      <th>113598</th>\n",
              "      <td>Johann Sebastian Bach</td>\n",
              "      <td>3PYLPDSD0JEJEfZIJ1gosN</td>\n",
              "      <td>3-Part Inventions: No. 10 in G Major, BWV 796</td>\n",
              "    </tr>\n",
              "    <tr>\n",
              "      <th>109761</th>\n",
              "      <td>Johann Sebastian Bach</td>\n",
              "      <td>35yCJqESGKVVIaET8kr7iJ</td>\n",
              "      <td>Das wohltemperierte Klavier, Buch I: Fuge Nr. ...</td>\n",
              "    </tr>\n",
              "    <tr>\n",
              "      <th>121839</th>\n",
              "      <td>Martin Rapide</td>\n",
              "      <td>1pfOyfuKafxJXajfsnU731</td>\n",
              "      <td>The Ones Left Behind</td>\n",
              "    </tr>\n",
              "    <tr>\n",
              "      <th>109652</th>\n",
              "      <td>Johann Sebastian Bach</td>\n",
              "      <td>2N4aqkLhhhfqGFIJ51Urdl</td>\n",
              "      <td>Das wohltemperierte Klavier, Buch I: Fuge Nr. ...</td>\n",
              "    </tr>\n",
              "    <tr>\n",
              "      <th>105972</th>\n",
              "      <td>Ludwig van Beethoven</td>\n",
              "      <td>3uFjbKODFuFbWRPCmlPnmu</td>\n",
              "      <td>Symphony No. 1 in C Major, Op. 21: I. Adagio m...</td>\n",
              "    </tr>\n",
              "    <tr>\n",
              "      <th>106582</th>\n",
              "      <td>Johann Sebastian Bach</td>\n",
              "      <td>7t4BeU43uOQO4TzzkCKmM3</td>\n",
              "      <td>Keyboard Partita No. 1 in B-Flat Major, BWV 82...</td>\n",
              "    </tr>\n",
              "  </tbody>\n",
              "</table>\n",
              "</div>"
            ],
            "text/plain": [
              "                    artist_name  ...                                         track_name\n",
              "360     Wolfgang Amadeus Mozart  ...  Piano Quartet No. 2 in E-Flat Major, K. 493: I...\n",
              "50479                   Shun Yu  ...   Sonata in F Major, Op. 54 (Ludwig van Beethoven)\n",
              "111803     Ludwig van Beethoven  ...  Violin Sonata No. 7 in C Minor, Op. 30 No. 2: ...\n",
              "78195           Igor Stravinsky  ...  Capriccio: III. Allegro capriccioso ma sempre ...\n",
              "113598    Johann Sebastian Bach  ...      3-Part Inventions: No. 10 in G Major, BWV 796\n",
              "109761    Johann Sebastian Bach  ...  Das wohltemperierte Klavier, Buch I: Fuge Nr. ...\n",
              "121839            Martin Rapide  ...                               The Ones Left Behind\n",
              "109652    Johann Sebastian Bach  ...  Das wohltemperierte Klavier, Buch I: Fuge Nr. ...\n",
              "105972     Ludwig van Beethoven  ...  Symphony No. 1 in C Major, Op. 21: I. Adagio m...\n",
              "106582    Johann Sebastian Bach  ...  Keyboard Partita No. 1 in B-Flat Major, BWV 82...\n",
              "\n",
              "[10 rows x 3 columns]"
            ]
          },
          "metadata": {
            "tags": []
          },
          "execution_count": 150
        }
      ]
    },
    {
      "cell_type": "code",
      "metadata": {
        "id": "QWGmea0JUvJ-",
        "colab_type": "code",
        "colab": {
          "base_uri": "https://localhost:8080/",
          "height": 359
        },
        "outputId": "3b5f9452-f2db-4ea7-9a1f-e0bee17b90e3"
      },
      "source": [
        "# after scaling\n",
        "recommendations = nn.kneighbors([moz_list[0]])[1][0]\n",
        "y.iloc[recommendations]"
      ],
      "execution_count": 173,
      "outputs": [
        {
          "output_type": "execute_result",
          "data": {
            "text/html": [
              "<div>\n",
              "<style scoped>\n",
              "    .dataframe tbody tr th:only-of-type {\n",
              "        vertical-align: middle;\n",
              "    }\n",
              "\n",
              "    .dataframe tbody tr th {\n",
              "        vertical-align: top;\n",
              "    }\n",
              "\n",
              "    .dataframe thead th {\n",
              "        text-align: right;\n",
              "    }\n",
              "</style>\n",
              "<table border=\"1\" class=\"dataframe\">\n",
              "  <thead>\n",
              "    <tr style=\"text-align: right;\">\n",
              "      <th></th>\n",
              "      <th>artist_name</th>\n",
              "      <th>track_id</th>\n",
              "      <th>track_name</th>\n",
              "    </tr>\n",
              "  </thead>\n",
              "  <tbody>\n",
              "    <tr>\n",
              "      <th>360</th>\n",
              "      <td>Wolfgang Amadeus Mozart</td>\n",
              "      <td>5hRqwsN8a0YiOuQrpV6CeL</td>\n",
              "      <td>Piano Quartet No. 2 in E-Flat Major, K. 493: I...</td>\n",
              "    </tr>\n",
              "    <tr>\n",
              "      <th>103519</th>\n",
              "      <td>Johann Sebastian Bach</td>\n",
              "      <td>7FYbAkr91lYVZXcMuWowv6</td>\n",
              "      <td>The Well-Tempered Clavier, Book 2, Prelude &amp; F...</td>\n",
              "    </tr>\n",
              "    <tr>\n",
              "      <th>107670</th>\n",
              "      <td>Wolfgang Amadeus Mozart</td>\n",
              "      <td>7qONDqrVzvyxh6NOgApIA5</td>\n",
              "      <td>Piano Concerto No. 23 in A Major, K. 488 (Arr....</td>\n",
              "    </tr>\n",
              "    <tr>\n",
              "      <th>50405</th>\n",
              "      <td>Ludwig van Beethoven</td>\n",
              "      <td>1oDZJwMPeA6eqoPpeDE7Eh</td>\n",
              "      <td>12 Variations on \"See the conqu'ring hero come...</td>\n",
              "    </tr>\n",
              "    <tr>\n",
              "      <th>1454</th>\n",
              "      <td>Johann Sebastian Bach</td>\n",
              "      <td>01CEzw3PnAbGY7ILhZalJ2</td>\n",
              "      <td>The Well-Tempered Clavier, Book 2: Prelude &amp; F...</td>\n",
              "    </tr>\n",
              "    <tr>\n",
              "      <th>109774</th>\n",
              "      <td>Johann Sebastian Bach</td>\n",
              "      <td>6eAWsG8vgAJoJtwpaKP6Zg</td>\n",
              "      <td>Das wohltemperierte Klavier, Buch I: Fuge Nr. ...</td>\n",
              "    </tr>\n",
              "    <tr>\n",
              "      <th>114086</th>\n",
              "      <td>Frédéric Chopin</td>\n",
              "      <td>7MMiIJoP6LM7UkY3LLpmKS</td>\n",
              "      <td>24 Préludes, Op. 28: No. 10 in C-Sharp Minor. ...</td>\n",
              "    </tr>\n",
              "    <tr>\n",
              "      <th>23062</th>\n",
              "      <td>Gioachino Rossini</td>\n",
              "      <td>2ORxCPOZiOqBZggyg6LsET</td>\n",
              "      <td>Péchés de vieillesse, Vol. 9, Album pour piano...</td>\n",
              "    </tr>\n",
              "    <tr>\n",
              "      <th>114712</th>\n",
              "      <td>Johann Sebastian Bach</td>\n",
              "      <td>56tRnOQrLgKv7XIUxHc1dt</td>\n",
              "      <td>Partita for Violin Solo No. 3 in E Major, BWV ...</td>\n",
              "    </tr>\n",
              "    <tr>\n",
              "      <th>95867</th>\n",
              "      <td>Ludwig van Beethoven</td>\n",
              "      <td>5NgUG94g4p91fffcr9D8lT</td>\n",
              "      <td>Diabelli Variations, Op. 120: Var. 9, Allegro ...</td>\n",
              "    </tr>\n",
              "  </tbody>\n",
              "</table>\n",
              "</div>"
            ],
            "text/plain": [
              "                    artist_name  ...                                         track_name\n",
              "360     Wolfgang Amadeus Mozart  ...  Piano Quartet No. 2 in E-Flat Major, K. 493: I...\n",
              "103519    Johann Sebastian Bach  ...  The Well-Tempered Clavier, Book 2, Prelude & F...\n",
              "107670  Wolfgang Amadeus Mozart  ...  Piano Concerto No. 23 in A Major, K. 488 (Arr....\n",
              "50405      Ludwig van Beethoven  ...  12 Variations on \"See the conqu'ring hero come...\n",
              "1454      Johann Sebastian Bach  ...  The Well-Tempered Clavier, Book 2: Prelude & F...\n",
              "109774    Johann Sebastian Bach  ...  Das wohltemperierte Klavier, Buch I: Fuge Nr. ...\n",
              "114086          Frédéric Chopin  ...  24 Préludes, Op. 28: No. 10 in C-Sharp Minor. ...\n",
              "23062         Gioachino Rossini  ...  Péchés de vieillesse, Vol. 9, Album pour piano...\n",
              "114712    Johann Sebastian Bach  ...  Partita for Violin Solo No. 3 in E Major, BWV ...\n",
              "95867      Ludwig van Beethoven  ...  Diabelli Variations, Op. 120: Var. 9, Allegro ...\n",
              "\n",
              "[10 rows x 3 columns]"
            ]
          },
          "metadata": {
            "tags": []
          },
          "execution_count": 173
        }
      ]
    }
  ]
}